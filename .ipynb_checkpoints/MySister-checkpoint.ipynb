{
 "cells": [
  {
   "cell_type": "code",
   "execution_count": 1,
   "metadata": {
    "scrolled": false
   },
   "outputs": [
    {
     "name": "stdout",
     "output_type": "stream",
     "text": [
      "Requirement already satisfied: awscli in /opt/anaconda3/lib/python3.7/site-packages (1.16.308)\n",
      "Requirement already satisfied: colorama<0.4.2,>=0.2.5; python_version != \"2.6\" and python_version != \"3.3\" in /opt/anaconda3/lib/python3.7/site-packages (from awscli) (0.4.1)\n",
      "Requirement already satisfied: botocore==1.13.44 in /opt/anaconda3/lib/python3.7/site-packages (from awscli) (1.13.44)\n",
      "Requirement already satisfied: rsa<=3.5.0,>=3.1.2 in /opt/anaconda3/lib/python3.7/site-packages (from awscli) (3.4.2)\n",
      "Requirement already satisfied: docutils<0.16,>=0.10 in /opt/anaconda3/lib/python3.7/site-packages (from awscli) (0.15.2)\n",
      "Requirement already satisfied: PyYAML<5.3,>=3.10; python_version != \"2.6\" and python_version != \"3.3\" in /opt/anaconda3/lib/python3.7/site-packages (from awscli) (5.1.2)\n",
      "Requirement already satisfied: s3transfer<0.3.0,>=0.2.0 in /opt/anaconda3/lib/python3.7/site-packages (from awscli) (0.2.1)\n",
      "Requirement already satisfied: urllib3<1.26,>=1.20; python_version >= \"3.4\" in /opt/anaconda3/lib/python3.7/site-packages (from botocore==1.13.44->awscli) (1.24.2)\n",
      "Requirement already satisfied: python-dateutil<3.0.0,>=2.1; python_version >= \"2.7\" in /opt/anaconda3/lib/python3.7/site-packages (from botocore==1.13.44->awscli) (2.8.0)\n",
      "Requirement already satisfied: jmespath<1.0.0,>=0.7.1 in /opt/anaconda3/lib/python3.7/site-packages (from botocore==1.13.44->awscli) (0.9.4)\n",
      "Requirement already satisfied: pyasn1>=0.1.3 in /opt/anaconda3/lib/python3.7/site-packages (from rsa<=3.5.0,>=3.1.2->awscli) (0.4.8)\n",
      "Requirement already satisfied: six>=1.5 in /opt/anaconda3/lib/python3.7/site-packages (from python-dateutil<3.0.0,>=2.1; python_version >= \"2.7\"->botocore==1.13.44->awscli) (1.12.0)\n",
      "Note: you may need to restart the kernel to use updated packages.\n"
     ]
    }
   ],
   "source": [
    "pip install awscli"
   ]
  },
  {
   "cell_type": "code",
   "execution_count": 2,
   "metadata": {
    "scrolled": false
   },
   "outputs": [
    {
     "name": "stdout",
     "output_type": "stream",
     "text": [
      "Requirement already satisfied: opencv-python in /opt/anaconda3/lib/python3.7/site-packages (4.1.2.30)\n",
      "Requirement already satisfied: numpy>=1.14.5 in /opt/anaconda3/lib/python3.7/site-packages (from opencv-python) (1.17.2)\n",
      "Note: you may need to restart the kernel to use updated packages.\n"
     ]
    }
   ],
   "source": [
    "pip install opencv-python"
   ]
  },
  {
   "cell_type": "code",
   "execution_count": 3,
   "metadata": {},
   "outputs": [
    {
     "name": "stdout",
     "output_type": "stream",
     "text": [
      "Requirement already satisfied: uuid in /opt/anaconda3/lib/python3.7/site-packages (1.30)\n",
      "Note: you may need to restart the kernel to use updated packages.\n"
     ]
    }
   ],
   "source": [
    "pip install uuid"
   ]
  },
  {
   "cell_type": "code",
   "execution_count": 12,
   "metadata": {
    "scrolled": true
   },
   "outputs": [],
   "source": [
    "import tkinter as ttk\n",
    "import pickle\n",
    "import uuid\n",
    "import os\n",
    "\n",
    "mac_adress = uuid.getnode()\n",
    "pickle_name = \"macadressdict.pickle\"\n",
    "\n",
    "# os.remove(pickle_name)\n",
    "\n",
    "mac_adress_dict = {}\n",
    "if os.path.exists(pickle_name) and os.path.getsize(pickle_name) > 0:\n",
    "    with open(pickle_name, 'rb') as f:\n",
    "        mac_adress_dict = pickle.load(f)\n",
    "else:\n",
    "    with open(pickle_name, \"wb\") as f:\n",
    "        pass\n",
    "\n",
    "path_dict = {} if not mac_adress_dict  else mac_adress_dict[mac_adress] if mac_adress in mac_adress_dict else  mac_adress_dict[0]\n",
    "\n",
    "root = ttk.Tk()\n",
    "root.title('Path List')\n",
    "\n",
    "#入力用フレーム\n",
    "frame0 = ttk.Frame(root)\n",
    "frame0.grid(row=0, column=0)\n",
    "\n",
    "#項目をつくる\n",
    "path_names = [\"cascade_path\"]\n",
    "list_Labels = [\"Name\", \"Path\"]\n",
    "\n",
    "n = len(path_names)\n",
    "for i in range(0, len(list_Labels)):\n",
    "    label0 = ttk.Label(frame0,\n",
    "                       text=list_Labels[i])\n",
    "    label0.grid(row=0, column=i)\n",
    "\n",
    "#項目1　リストから選ぶ\n",
    "list_Items1 = [0] * n\n",
    "for i in range(0, n):  \n",
    "    list_Items1[i] = ttk.Label(frame0,text=path_names[i],width=20)\n",
    "    list_Items1[i].grid(row=i+1, column=0)\n",
    "    \n",
    "#項目2　手入力する\n",
    "list_Items2 = [0] * n\n",
    "for i in range(0, n):\n",
    "    list_Items2[i] = ttk.StringVar()\n",
    "    path_name = path_names[i]\n",
    "    if path_name in path_dict:\n",
    "        list_Items2[i].set(path_dict[path_name])\n",
    "    entry_Item2 = ttk.Entry(frame0,\n",
    "                            textvariable=list_Items2[i],\n",
    "                            width=20)\n",
    "    entry_Item2.grid(row=i+1,column=1)\n",
    "    \n",
    "root.mainloop()\n",
    "\n",
    "buffer = dict(zip(path_names, [item2.get() for item2 in list_Items2]))\n",
    "mac_adress_dict[mac_adress]= buffer;\n",
    "\n",
    "with open(pickle_name, \"wb\") as f:\n",
    "    pickle.dump(mac_adress_dict, f)"
   ]
  },
  {
   "cell_type": "code",
   "execution_count": 5,
   "metadata": {},
   "outputs": [],
   "source": [
    "class _const:\n",
    "    class ConstError(TypeError): pass\n",
    "    def __setattr__(self,name,value):\n",
    "        if name in self.__dict__.keys():\n",
    "            raise self.ConstError('readonly。再代入禁止。')\n",
    "        self.__dict__[name]=value"
   ]
  },
  {
   "cell_type": "code",
   "execution_count": 6,
   "metadata": {},
   "outputs": [],
   "source": [
    "const_ins = _const()\n",
    "\n",
    "with open(pickle_name, 'rb') as f:\n",
    "    mac_adress_dict = pickle.load(f)\n",
    "const_ins.path_dict = mac_adress_dict[mac_adress]"
   ]
  },
  {
   "cell_type": "code",
   "execution_count": 7,
   "metadata": {},
   "outputs": [],
   "source": [
    "import tkinter as tk\n",
    "import tkinter.filedialog as tkdialog\n",
    "import platform\n",
    "import os\n",
    "\n",
    "system = platform.system()\n",
    "fname = None\n",
    "if system == \"Darwin\":\n",
    "    fTyp=[('png files','*.png'), ('jpeg files','*.jpeg')]\n",
    "    root  = tk.Tk()\n",
    "    root.withdraw()\n",
    "    fname = tkdialog.askopenfilename(filetypes=fTyp,initialdir=os.getcwd())\n",
    "    root.update()\n",
    "    root.destroy()\n",
    "elif system == \"Windows\":\n",
    "    print(\"windows\")"
   ]
  },
  {
   "cell_type": "code",
   "execution_count": 8,
   "metadata": {
    "scrolled": true
   },
   "outputs": [
    {
     "data": {
      "text/plain": [
       "s3.Object(bucket_name='akomekagome.example.img', key='Test/akome1.jpeg')"
      ]
     },
     "execution_count": 8,
     "metadata": {},
     "output_type": "execute_result"
    }
   ],
   "source": [
    "import boto3\n",
    "\n",
    "collation_image_path = \"Test/akome1.jpeg\"\n",
    "collation_bucket_path  = \"akomekagome.example.img\"\n",
    "\n",
    "# print(fname)\n",
    "with open(fname, 'rb') as f:\n",
    "    imageBody = f.read()\n",
    "\n",
    "s3=boto3.resource('s3')\n",
    "bucket=s3.Bucket(collation_bucket_path)\n",
    "bucket.put_object(\n",
    "    Body=imageBody,\n",
    "    Key=collation_image_path\n",
    ")"
   ]
  },
  {
   "cell_type": "code",
   "execution_count": 9,
   "metadata": {
    "scrolled": true
   },
   "outputs": [],
   "source": [
    "import boto3\n",
    "\n",
    "collection_id='FaceCollection'\n",
    "\n",
    "client = boto3.client('rekognition', region_name=\"ap-northeast-1\")\n",
    "collections = client.list_collections()\n",
    "if not collection_id in collections['CollectionIds']:\n",
    "    client.create_collection(CollectionId=collection_id)\n",
    "response=client.index_faces\n",
    "response=client.index_faces(CollectionId=collection_id,Image={'S3Object':{'Bucket':collation_bucket_path,'Name':collation_image_path}})"
   ]
  },
  {
   "cell_type": "code",
   "execution_count": 10,
   "metadata": {},
   "outputs": [],
   "source": [
    "import boto3\n",
    "\n",
    "def authenticate_face(standard_value,collectionId, bucket_path, path):\n",
    "    rek_res = client.search_faces_by_image(CollectionId = collectionId, Image={'S3Object':{'Bucket':bucket_path,'Name':path}})\n",
    "    similarity  =rek_res['FaceMatches'][0]['Similarity']\n",
    "    return similarity > standard_value"
   ]
  },
  {
   "cell_type": "code",
   "execution_count": 11,
   "metadata": {},
   "outputs": [
    {
     "name": "stdout",
     "output_type": "stream",
     "text": [
      "match\n"
     ]
    }
   ],
   "source": [
    "import cv2\n",
    "import boto3\n",
    "\n",
    "imag_name = \"face.jpg\"\n",
    "output_path = \"./\" + imag_name\n",
    "cascade_path = const_ins.path_dict['cascade_path']\n",
    "verification_bucket_path  = \"akomekagome.example.mov\"\n",
    "standard_value = 0.95\n",
    "\n",
    "s3=boto3.resource('s3')\n",
    "cap = cv2.VideoCapture(0)\n",
    "\n",
    "while True:\n",
    "    ret, image = cap.read()\n",
    "    image_gray = cv2.cvtColor(image, cv2.COLOR_BGR2GRAY)\n",
    "    cascade = cv2.CascadeClassifier(cascade_path)\n",
    "    facerect = cascade.detectMultiScale(image_gray, scaleFactor=1.1, minNeighbors=2, minSize=(30, 30))\n",
    "    if len(facerect) > 0:\n",
    "        cv2.imwrite(output_path, image)\n",
    "        s3.Bucket(verification_bucket_path).upload_file(output_path,imag_name)\n",
    "        if(authenticate_face(standard_value, collection_id, verification_bucket_path, imag_name)):\n",
    "            print(\"match\")\n",
    "            break\n",
    "        else:\n",
    "            print(\"no match\")\n",
    "            continue\n",
    "    if cv2.waitKey(1) & 0xFF == ord('q'):\n",
    "        break\n",
    "cap.release()"
   ]
  }
 ],
 "metadata": {
  "jupytext": {
   "formats": "ipynb,py"
  },
  "kernelspec": {
   "display_name": "Python 3",
   "language": "python",
   "name": "python3"
  },
  "language_info": {
   "codemirror_mode": {
    "name": "ipython",
    "version": 3
   },
   "file_extension": ".py",
   "mimetype": "text/x-python",
   "name": "python",
   "nbconvert_exporter": "python",
   "pygments_lexer": "ipython3",
   "version": "3.7.4"
  }
 },
 "nbformat": 4,
 "nbformat_minor": 2
}
